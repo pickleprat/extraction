{
 "cells": [
  {
   "cell_type": "code",
   "execution_count": 4,
   "metadata": {},
   "outputs": [],
   "source": [
    "import pandas as pd \n",
    "from zipfile import ZipFile\n",
    "import os \n",
    "\n",
    "path = 'extract_files'\n"
   ]
  },
  {
   "cell_type": "code",
   "execution_count": 10,
   "metadata": {},
   "outputs": [],
   "source": [
    "dirs = os.listdir(path)\n",
    "\n",
    " \n",
    "def asd():\n",
    "    for f in dirs:\n",
    "        with ZipFile(f'{path}/{f}', 'r') as zipobj: \n",
    "            namelist = zipobj.namelist()\n",
    "            for names in namelist: \n",
    "                if names.endswith('.dbf'):\n",
    "                    zipobj.extract(names , 'extract') \n",
    "asd()   \n"
   ]
  },
  {
   "cell_type": "code",
   "execution_count": 34,
   "metadata": {},
   "outputs": [
    {
     "name": "stdout",
     "output_type": "stream",
     "text": [
      "['lightgrid_G046858-2022-12-14-2022-12-18.dbf', 'lightgrid_G047450-2022-12-01-2022-12-05.dbf', 'lightgrid_G047450-2022-12-06-2022-12-11.dbf', 'lightgrid_G047451-2022-12-03-2022-12-05.dbf', 'lightgrid_G047453-2022-12-07-2022-12-11.dbf', 'lightgrid_G047750-2022-12-08-2022-12-11.dbf', 'lightgrid_G047751-2022-12-12-2022-12-18.dbf', 'lightgrid_G047756-2022-12-15-2022-12-18.dbf', 'lightgrid_G047760-2022-12-16-2022-12-18.dbf', 'lightgrid_G048051-2022-12-11-2022-12-12.dbf', 'lightgrid_G048055-2022-12-13-2022-12-18.dbf', 'lightgrid_G048056-2022-12-17-2022-12-18.dbf', 'lightgrid_G048352-2022-12-02-2022-12-05.dbf', 'lightgrid_G048352-2022-12-04-2022-12-05.dbf', 'lightgrid_G048352-2022-12-10-2022-12-11.dbf']\n",
      "lightgrid_G046858-2022-12-14-2022-12-18.dbf 1566\n",
      "lightgrid_G047450-2022-12-01-2022-12-05.dbf 1566\n",
      "lightgrid_G047450-2022-12-06-2022-12-11.dbf 1566\n",
      "lightgrid_G047451-2022-12-03-2022-12-05.dbf 1566\n",
      "lightgrid_G047453-2022-12-07-2022-12-11.dbf 1566\n",
      "lightgrid_G047750-2022-12-08-2022-12-11.dbf 1566\n",
      "lightgrid_G047751-2022-12-12-2022-12-18.dbf 1566\n",
      "lightgrid_G047756-2022-12-15-2022-12-18.dbf 1566\n",
      "lightgrid_G047760-2022-12-16-2022-12-18.dbf 1566\n",
      "lightgrid_G048051-2022-12-11-2022-12-12.dbf 1566\n",
      "lightgrid_G048055-2022-12-13-2022-12-18.dbf 1566\n",
      "lightgrid_G048056-2022-12-17-2022-12-18.dbf 1566\n",
      "lightgrid_G048352-2022-12-02-2022-12-05.dbf 1566\n",
      "lightgrid_G048352-2022-12-04-2022-12-05.dbf 1566\n",
      "lightgrid_G048352-2022-12-10-2022-12-11.dbf 1566\n"
     ]
    }
   ],
   "source": [
    "from simpledbf import Dbf5\n",
    "main_dbf = Dbf5('extract/shape/lightgrid_G046858-2022-12-14-2022-12-18.dbf').to_dataframe()\n",
    "dirs_ex = os.listdir('extract\\shape')\n",
    "dirs_ex\n",
    "print(dirs_ex)\n",
    "i =0\n",
    "for obj in dirs_ex:\n",
    "    # if i!=5:\n",
    "    obj_dbf = Dbf5(f'extract/shape/{obj}').to_dataframe()\n",
    "    print(dirs_ex[i], len(obj_dbf))\n",
    "    main_dbf = pd.concat([main_dbf, obj_dbf])\n",
    "    i=i+1\n",
    "\n",
    "main_dbf = main_dbf.groupby(['id', 'cx', 'cy', 'gid'])['count'].sum()\n"
   ]
  },
  {
   "cell_type": "code",
   "execution_count": 37,
   "metadata": {},
   "outputs": [],
   "source": [
    "main_dbf.to_csv('file.csv')"
   ]
  },
  {
   "cell_type": "code",
   "execution_count": 6,
   "metadata": {},
   "outputs": [],
   "source": [
    "import pandas as pd \n",
    "import dbf \n",
    "\n",
    "dbf_file = dbf.from_csv(csvfile='file.csv', to_disk=True)"
   ]
  },
  {
   "cell_type": "code",
   "execution_count": 7,
   "metadata": {},
   "outputs": [
    {
     "data": {
      "text/plain": [
       "dbf.Table('file', status=<DbfStatus.CLOSED: 0>)"
      ]
     },
     "execution_count": 7,
     "metadata": {},
     "output_type": "execute_result"
    }
   ],
   "source": [
    "dbf_file"
   ]
  },
  {
   "cell_type": "code",
   "execution_count": null,
   "metadata": {},
   "outputs": [],
   "source": []
  }
 ],
 "metadata": {
  "kernelspec": {
   "display_name": "ml",
   "language": "python",
   "name": "ml"
  },
  "orig_nbformat": 4
 },
 "nbformat": 4,
 "nbformat_minor": 2
}
